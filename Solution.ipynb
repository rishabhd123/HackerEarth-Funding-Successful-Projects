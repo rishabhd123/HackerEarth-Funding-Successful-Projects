{
 "cells": [
  {
   "cell_type": "code",
   "execution_count": 1,
   "metadata": {
    "collapsed": true
   },
   "outputs": [],
   "source": [
    "import numpy as np\n",
    "import pandas as pd\n",
    "import matplotlib.pyplot as plt\n"
   ]
  },
  {
   "cell_type": "code",
   "execution_count": 7,
   "metadata": {},
   "outputs": [],
   "source": [
    "train_data = pd.read_csv('Data/train.csv')\n",
    "test_data  = pd.read_csv('Data/test.csv')"
   ]
  },
  {
   "cell_type": "code",
   "execution_count": 15,
   "metadata": {
    "collapsed": true
   },
   "outputs": [
    {
     "data": {
      "text/html": [
       "<div>\n",
       "<table border=\"1\" class=\"dataframe\">\n",
       "  <thead>\n",
       "    <tr style=\"text-align: right;\">\n",
       "      <th></th>\n",
       "      <th>project_id</th>\n",
       "      <th>name</th>\n",
       "      <th>desc</th>\n",
       "      <th>goal</th>\n",
       "      <th>keywords</th>\n",
       "      <th>disable_communication</th>\n",
       "      <th>country</th>\n",
       "      <th>currency</th>\n",
       "      <th>deadline</th>\n",
       "      <th>state_changed_at</th>\n",
       "      <th>created_at</th>\n",
       "      <th>launched_at</th>\n",
       "      <th>backers_count</th>\n",
       "      <th>final_status</th>\n",
       "    </tr>\n",
       "  </thead>\n",
       "  <tbody>\n",
       "    <tr>\n",
       "      <th>0</th>\n",
       "      <td>kkst1451568084</td>\n",
       "      <td>drawing for dollars</td>\n",
       "      <td>I like drawing pictures. and then i color them...</td>\n",
       "      <td>20.0</td>\n",
       "      <td>drawing-for-dollars</td>\n",
       "      <td>False</td>\n",
       "      <td>US</td>\n",
       "      <td>USD</td>\n",
       "      <td>1241333999</td>\n",
       "      <td>1241334017</td>\n",
       "      <td>1240600507</td>\n",
       "      <td>1240602723</td>\n",
       "      <td>3</td>\n",
       "      <td>1</td>\n",
       "    </tr>\n",
       "    <tr>\n",
       "      <th>1</th>\n",
       "      <td>kkst1474482071</td>\n",
       "      <td>Sponsor Dereck Blackburn (Lostwars) Artist in ...</td>\n",
       "      <td>I, Dereck Blackburn will be taking upon an inc...</td>\n",
       "      <td>300.0</td>\n",
       "      <td>sponsor-dereck-blackburn-lostwars-artist-in-re...</td>\n",
       "      <td>False</td>\n",
       "      <td>US</td>\n",
       "      <td>USD</td>\n",
       "      <td>1242429000</td>\n",
       "      <td>1242432018</td>\n",
       "      <td>1240960224</td>\n",
       "      <td>1240975592</td>\n",
       "      <td>2</td>\n",
       "      <td>0</td>\n",
       "    </tr>\n",
       "    <tr>\n",
       "      <th>2</th>\n",
       "      <td>kkst183622197</td>\n",
       "      <td>Mr. Squiggles</td>\n",
       "      <td>So I saw darkpony's successfully funded drawin...</td>\n",
       "      <td>30.0</td>\n",
       "      <td>mr-squiggles</td>\n",
       "      <td>False</td>\n",
       "      <td>US</td>\n",
       "      <td>USD</td>\n",
       "      <td>1243027560</td>\n",
       "      <td>1243027818</td>\n",
       "      <td>1242163613</td>\n",
       "      <td>1242164398</td>\n",
       "      <td>0</td>\n",
       "      <td>0</td>\n",
       "    </tr>\n",
       "    <tr>\n",
       "      <th>3</th>\n",
       "      <td>kkst597742710</td>\n",
       "      <td>Help me write my second novel.</td>\n",
       "      <td>Do your part to help out starving artists and ...</td>\n",
       "      <td>500.0</td>\n",
       "      <td>help-me-write-my-second-novel</td>\n",
       "      <td>False</td>\n",
       "      <td>US</td>\n",
       "      <td>USD</td>\n",
       "      <td>1243555740</td>\n",
       "      <td>1243556121</td>\n",
       "      <td>1240963795</td>\n",
       "      <td>1240966730</td>\n",
       "      <td>18</td>\n",
       "      <td>1</td>\n",
       "    </tr>\n",
       "    <tr>\n",
       "      <th>4</th>\n",
       "      <td>kkst1913131122</td>\n",
       "      <td>Support casting my sculpture in bronze</td>\n",
       "      <td>I'm nearing completion on a sculpture, current...</td>\n",
       "      <td>2000.0</td>\n",
       "      <td>support-casting-my-sculpture-in-bronze</td>\n",
       "      <td>False</td>\n",
       "      <td>US</td>\n",
       "      <td>USD</td>\n",
       "      <td>1243769880</td>\n",
       "      <td>1243770317</td>\n",
       "      <td>1241177914</td>\n",
       "      <td>1241180541</td>\n",
       "      <td>1</td>\n",
       "      <td>0</td>\n",
       "    </tr>\n",
       "  </tbody>\n",
       "</table>\n",
       "</div>"
      ],
      "text/plain": [
       "       project_id                                               name  \\\n",
       "0  kkst1451568084                                drawing for dollars   \n",
       "1  kkst1474482071  Sponsor Dereck Blackburn (Lostwars) Artist in ...   \n",
       "2   kkst183622197                                      Mr. Squiggles   \n",
       "3   kkst597742710                     Help me write my second novel.   \n",
       "4  kkst1913131122             Support casting my sculpture in bronze   \n",
       "\n",
       "                                                desc    goal  \\\n",
       "0  I like drawing pictures. and then i color them...    20.0   \n",
       "1  I, Dereck Blackburn will be taking upon an inc...   300.0   \n",
       "2  So I saw darkpony's successfully funded drawin...    30.0   \n",
       "3  Do your part to help out starving artists and ...   500.0   \n",
       "4  I'm nearing completion on a sculpture, current...  2000.0   \n",
       "\n",
       "                                            keywords disable_communication  \\\n",
       "0                                drawing-for-dollars                 False   \n",
       "1  sponsor-dereck-blackburn-lostwars-artist-in-re...                 False   \n",
       "2                                       mr-squiggles                 False   \n",
       "3                      help-me-write-my-second-novel                 False   \n",
       "4             support-casting-my-sculpture-in-bronze                 False   \n",
       "\n",
       "  country currency    deadline  state_changed_at  created_at  launched_at  \\\n",
       "0      US      USD  1241333999        1241334017  1240600507   1240602723   \n",
       "1      US      USD  1242429000        1242432018  1240960224   1240975592   \n",
       "2      US      USD  1243027560        1243027818  1242163613   1242164398   \n",
       "3      US      USD  1243555740        1243556121  1240963795   1240966730   \n",
       "4      US      USD  1243769880        1243770317  1241177914   1241180541   \n",
       "\n",
       "   backers_count  final_status  \n",
       "0              3             1  \n",
       "1              2             0  \n",
       "2              0             0  \n",
       "3             18             1  \n",
       "4              1             0  "
      ]
     },
     "execution_count": 15,
     "metadata": {},
     "output_type": "execute_result"
    }
   ],
   "source": [
    "train_data.head(5)"
   ]
  },
  {
   "cell_type": "code",
   "execution_count": 23,
   "metadata": {},
   "outputs": [
    {
     "data": {
      "text/plain": [
       "str"
      ]
     },
     "execution_count": 23,
     "metadata": {},
     "output_type": "execute_result"
    }
   ],
   "source": [
    "type(train_data.name[0])"
   ]
  },
  {
   "cell_type": "code",
   "execution_count": 14,
   "metadata": {
    "collapsed": true
   },
   "outputs": [
    {
     "data": {
      "text/plain": [
       "0                                  drawing-for-dollars\n",
       "1    sponsor-dereck-blackburn-lostwars-artist-in-re...\n",
       "2                                         mr-squiggles\n",
       "3                        help-me-write-my-second-novel\n",
       "4               support-casting-my-sculpture-in-bronze\n",
       "5                                         daily-digest\n",
       "6                              igoozex-free-iphone-app\n",
       "7                                drive-a-faster-car-20\n",
       "8                               lostles-at-tinys-giant\n",
       "9    choose-your-own-adventure-a-robot-painting-series\n",
       "Name: keywords, dtype: object"
      ]
     },
     "execution_count": 14,
     "metadata": {},
     "output_type": "execute_result"
    }
   ],
   "source": [
    "train_data['keywords'].head(10)"
   ]
  }
 ],
 "metadata": {
  "kernelspec": {
   "display_name": "Python 2",
   "language": "python",
   "name": "python2"
  },
  "language_info": {
   "codemirror_mode": {
    "name": "ipython",
    "version": 2
   },
   "file_extension": ".py",
   "mimetype": "text/x-python",
   "name": "python",
   "nbconvert_exporter": "python",
   "pygments_lexer": "ipython2",
   "version": "2.7.12"
  }
 },
 "nbformat": 4,
 "nbformat_minor": 2
}
